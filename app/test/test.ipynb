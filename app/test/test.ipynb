{
 "cells": [
  {
   "cell_type": "code",
   "execution_count": 4,
   "metadata": {},
   "outputs": [],
   "source": [
    "from random import Random\n",
    "from datetime import timedelta, datetime\n",
    "import logging\n"
   ]
  },
  {
   "cell_type": "code",
   "execution_count": 19,
   "metadata": {},
   "outputs": [],
   "source": [
    "def date_format_concersion(date, output_format='%Y/%m/%d'):\n",
    "\n",
    "    # Fool-proof: check if the input date is None\n",
    "    if date is None:\n",
    "        return None\n",
    "\n",
    "    try: \n",
    "        parsed_date = datetime.strptime(date, output_format)\n",
    "        \n",
    "    except ValueError as e:\n",
    "\n",
    "        try:\n",
    "            # Try to parse the input date\n",
    "            parsed_date = datetime.strptime(date, '%Y%m%d')\n",
    "        except ValueError as e:\n",
    "        \n",
    "            try:\n",
    "                parsed_date = datetime.strptime(date, '%Y_%m_%d')\n",
    "            except ValueError as e:\n",
    "\n",
    "                try:\n",
    "                    parsed_date = datetime.strptime(date, '%Y-%m-%d')\n",
    "                except ValueError as e:\n",
    "\n",
    "                    return logging.error(f'Unparsable date format {e}')\n",
    "\n",
    "    output_date = parsed_date.strftime(output_format)\n",
    "\n",
    "    return output_date"
   ]
  },
  {
   "cell_type": "code",
   "execution_count": 20,
   "metadata": {},
   "outputs": [
    {
     "name": "stdout",
     "output_type": "stream",
     "text": [
      "2023/01/01\n",
      "2023/01/01\n",
      "2023/01/01\n",
      "None\n"
     ]
    }
   ],
   "source": [
    "# 測試函數\n",
    "input_date1 = '2023-01-01'\n",
    "input_date2 = '2023_01_01'\n",
    "input_date3 = '2023/01/01'\n",
    "input_date4 = None \n",
    "\n",
    "# 輸出預設格式 (%Y%m%d)\n",
    "output1 = date_format_concersion(input_date1)\n",
    "print(output1)  # 輸出: 20230101\n",
    "\n",
    "# 輸出自定義格式 (%Y/%m/%d)\n",
    "output2 = date_format_concersion(input_date2, '%Y/%m/%d')\n",
    "print(output2)  # 輸出: 2023/01/01\n",
    "\n",
    "# 輸出預設格式 (%Y%m%d)\n",
    "output3 = date_format_concersion(input_date3)\n",
    "print(output3)  # 輸出: 20230101\n",
    "\n",
    "output4 = date_format_concersion(input_date4)\n",
    "print(output4)"
   ]
  },
  {
   "cell_type": "code",
   "execution_count": 8,
   "metadata": {},
   "outputs": [
    {
     "name": "stdout",
     "output_type": "stream",
     "text": [
      "20230101\n",
      "2023/01/01\n",
      "20230101\n"
     ]
    }
   ],
   "source": [
    "def trans_date(input_date, output_format='%Y%m%d'):\n",
    "\n",
    "    if\n",
    "\n",
    "    try:\n",
    "        # 嘗試解析輸入日期\n",
    "        parsed_date = datetime.strptime(input_date, '%Y-%m-%d')\n",
    "    except ValueError:\n",
    "        try:\n",
    "            parsed_date = datetime.strptime(input_date, '%Y_%m_%d')\n",
    "        except ValueError:\n",
    "            try:\n",
    "                parsed_date = datetime.strptime(input_date, '%Y/%m/%d')\n",
    "            except ValueError:\n",
    "                # 如果無法解析日期，可以根據實際需求進行處理\n",
    "                return \"無法解析的日期格式\"\n",
    "\n",
    "    # 根據輸出格式轉換日期\n",
    "    output_date = parsed_date.strftime(output_format)\n",
    "    return output_date\n",
    "\n",
    "# 測試函數\n",
    "input_date1 = '2023-01-01'\n",
    "input_date2 = '2023_01_01'\n",
    "input_date3 = '2023/01/01'\n",
    "\n",
    "# 輸出預設格式 (%Y%m%d)\n",
    "output1 = trans_date(input_date1)\n",
    "print(output1)  # 輸出: 20230101\n",
    "\n",
    "# 輸出自定義格式 (%Y/%m/%d)\n",
    "output2 = trans_date(input_date2, '%Y/%m/%d')\n",
    "print(output2)  # 輸出: 2023/01/01\n",
    "\n",
    "# 輸出預設格式 (%Y%m%d)\n",
    "output3 = trans_date(input_date3)\n",
    "print(output3)  # 輸出: 20230101"
   ]
  }
 ],
 "metadata": {
  "kernelspec": {
   "display_name": ".venv",
   "language": "python",
   "name": "python3"
  },
  "language_info": {
   "codemirror_mode": {
    "name": "ipython",
    "version": 3
   },
   "file_extension": ".py",
   "mimetype": "text/x-python",
   "name": "python",
   "nbconvert_exporter": "python",
   "pygments_lexer": "ipython3",
   "version": "3.10.12"
  }
 },
 "nbformat": 4,
 "nbformat_minor": 2
}
